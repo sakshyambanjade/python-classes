{
  "nbformat": 4,
  "nbformat_minor": 0,
  "metadata": {
    "colab": {
      "provenance": [],
      "authorship_tag": "ABX9TyNI9zlDClwIykrpG7sA6DFB",
      "include_colab_link": true
    },
    "kernelspec": {
      "name": "python3",
      "display_name": "Python 3"
    },
    "language_info": {
      "name": "python"
    }
  },
  "cells": [
    {
      "cell_type": "markdown",
      "metadata": {
        "id": "view-in-github",
        "colab_type": "text"
      },
      "source": [
        "<a href=\"https://colab.research.google.com/github/sakshyambanjade/python-classes/blob/main/python_classes.ipynb\" target=\"_parent\"><img src=\"https://colab.research.google.com/assets/colab-badge.svg\" alt=\"Open In Colab\"/></a>"
      ]
    },
    {
      "cell_type": "code",
      "source": [
        "#day1"
      ],
      "metadata": {
        "id": "l8LkKAqJzjiK"
      },
      "execution_count": null,
      "outputs": []
    },
    {
      "cell_type": "code",
      "source": [
        "s = \"KB\"\n",
        "print(s.lower())"
      ],
      "metadata": {
        "id": "ViPYEhz31Us0",
        "colab": {
          "base_uri": "https://localhost:8080/"
        },
        "outputId": "4e26b8be-e7b5-4803-a26e-92830440cab1"
      },
      "execution_count": null,
      "outputs": [
        {
          "output_type": "stream",
          "name": "stdout",
          "text": [
            "kb\n"
          ]
        }
      ]
    },
    {
      "cell_type": "code",
      "source": [
        "s = \"kb\"\n",
        "print(s.replace(\"kb\",\"noob\"))"
      ],
      "metadata": {
        "id": "LUMvsVgc_EZS",
        "colab": {
          "base_uri": "https://localhost:8080/"
        },
        "outputId": "abddd96b-1956-4e4c-ce22-f78b931491da"
      },
      "execution_count": null,
      "outputs": [
        {
          "output_type": "stream",
          "name": "stdout",
          "text": [
            "noob\n"
          ]
        }
      ]
    },
    {
      "cell_type": "code",
      "source": [
        "s = \"kb\"\n",
        "print(s.upper())"
      ],
      "metadata": {
        "colab": {
          "base_uri": "https://localhost:8080/"
        },
        "id": "FYipIiFrAFFp",
        "outputId": "303d4c15-73a3-4d77-d596-28167558ff0e"
      },
      "execution_count": null,
      "outputs": [
        {
          "output_type": "stream",
          "name": "stdout",
          "text": [
            "KB\n"
          ]
        }
      ]
    },
    {
      "cell_type": "code",
      "source": [
        "s = \"kb\"\n",
        "print(s.title())"
      ],
      "metadata": {
        "colab": {
          "base_uri": "https://localhost:8080/"
        },
        "id": "SmrUP40tAK6i",
        "outputId": "bd534ee6-e64b-48ba-c3a7-11ebb7ef6ace"
      },
      "execution_count": null,
      "outputs": [
        {
          "output_type": "stream",
          "name": "stdout",
          "text": [
            "Kb\n"
          ]
        }
      ]
    },
    {
      "cell_type": "code",
      "source": [
        "#lstrip => to remove blank space\n",
        "s = \"                        kb \"\n",
        "print(s.lstrip())"
      ],
      "metadata": {
        "colab": {
          "base_uri": "https://localhost:8080/"
        },
        "id": "WyBB6KMAARPj",
        "outputId": "9c3d13ee-5e6c-45ce-ee03-4599332c81ba"
      },
      "execution_count": null,
      "outputs": [
        {
          "output_type": "stream",
          "name": "stdout",
          "text": [
            "kb \n"
          ]
        }
      ]
    },
    {
      "cell_type": "code",
      "source": [
        "#rstrip =>\n",
        "s = \"kb                        \"\n",
        "print(s.rstrip())"
      ],
      "metadata": {
        "colab": {
          "base_uri": "https://localhost:8080/"
        },
        "id": "gdNYQB4GApiC",
        "outputId": "19bcc1cc-8497-41f1-b3e8-14b76aa5f683"
      },
      "execution_count": null,
      "outputs": [
        {
          "output_type": "stream",
          "name": "stdout",
          "text": [
            "kb\n"
          ]
        }
      ]
    },
    {
      "cell_type": "code",
      "source": [
        "#strip\n",
        "s = \"                        kb \"\n",
        "print(s.strip())"
      ],
      "metadata": {
        "colab": {
          "base_uri": "https://localhost:8080/"
        },
        "id": "zpN5b_hyA8Iz",
        "outputId": "65827683-03df-439f-e872-f79246647fcf"
      },
      "execution_count": null,
      "outputs": [
        {
          "output_type": "stream",
          "name": "stdout",
          "text": [
            "kb\n"
          ]
        }
      ]
    },
    {
      "cell_type": "code",
      "source": [
        "#split\n",
        "s = \"kb is pro\"\n",
        "print(s.split())"
      ],
      "metadata": {
        "colab": {
          "base_uri": "https://localhost:8080/"
        },
        "id": "MJciaAOhBGsV",
        "outputId": "ac7b7f77-920b-406d-99bf-1bee525edd44"
      },
      "execution_count": null,
      "outputs": [
        {
          "output_type": "stream",
          "name": "stdout",
          "text": [
            "['kb', 'is', 'pro']\n"
          ]
        }
      ]
    },
    {
      "cell_type": "code",
      "source": [
        "#join\n",
        "s = \"\"\n",
        "word = \"kb\",\"is\",\"noob\"\n",
        "print(s.join(word))"
      ],
      "metadata": {
        "colab": {
          "base_uri": "https://localhost:8080/"
        },
        "id": "n9m_Jss7CeGe",
        "outputId": "270749eb-a77d-49ed-e9ca-286f7a698de2"
      },
      "execution_count": null,
      "outputs": [
        {
          "output_type": "stream",
          "name": "stdout",
          "text": [
            "kbisnoob\n"
          ]
        }
      ]
    },
    {
      "cell_type": "code",
      "source": [
        "#isdigit()\n",
        "s = \"kb\"\n",
        "print(s.isdigit())"
      ],
      "metadata": {
        "colab": {
          "base_uri": "https://localhost:8080/"
        },
        "id": "Ge64J9VxCzN8",
        "outputId": "badbf23f-7f1b-44f1-9e9e-43dae6aba76d"
      },
      "execution_count": null,
      "outputs": [
        {
          "output_type": "stream",
          "name": "stdout",
          "text": [
            "False\n"
          ]
        }
      ]
    },
    {
      "cell_type": "code",
      "source": [
        "#isupper()\n",
        "s = \"KB\"\n",
        "print(s.isupper())"
      ],
      "metadata": {
        "colab": {
          "base_uri": "https://localhost:8080/"
        },
        "id": "Y97UH_KQEoY5",
        "outputId": "88bfdb3b-82eb-42fb-aa46-72fdf9a5eb3e"
      },
      "execution_count": null,
      "outputs": [
        {
          "output_type": "stream",
          "name": "stdout",
          "text": [
            "True\n"
          ]
        }
      ]
    },
    {
      "cell_type": "code",
      "source": [
        "#.format()\n",
        "s = \"my name is {} {}\"\n",
        "print(s.format(\"kb\",\"babu\"))"
      ],
      "metadata": {
        "colab": {
          "base_uri": "https://localhost:8080/"
        },
        "id": "UlHHA8B8Ep9u",
        "outputId": "cf725445-6946-481a-938f-0e46af181d08"
      },
      "execution_count": null,
      "outputs": [
        {
          "output_type": "stream",
          "name": "stdout",
          "text": [
            "my name is kb babu\n"
          ]
        }
      ]
    },
    {
      "cell_type": "code",
      "source": [
        "#fstring\n",
        "a = 1\n",
        "b = 2\n",
        "print(f\"sum of {a} and {b} is {a+b}\")"
      ],
      "metadata": {
        "colab": {
          "base_uri": "https://localhost:8080/"
        },
        "id": "GuIz45LxFHTq",
        "outputId": "92981270-389f-46c0-e50f-62415a032d0a"
      },
      "execution_count": null,
      "outputs": [
        {
          "output_type": "stream",
          "name": "stdout",
          "text": [
            "sum of 1 and 2 is 3\n"
          ]
        }
      ]
    },
    {
      "cell_type": "code",
      "source": [
        "name = \"##Hello##World##\"\n",
        "s= name.replace(\"#\",\"\")\n",
        "print(s.lower())"
      ],
      "metadata": {
        "colab": {
          "base_uri": "https://localhost:8080/"
        },
        "id": "qDWW1I-VFiGE",
        "outputId": "eb8fb261-7012-4e70-e7f4-106ace413f5e"
      },
      "execution_count": null,
      "outputs": [
        {
          "output_type": "stream",
          "name": "stdout",
          "text": [
            "helloworld\n"
          ]
        }
      ]
    },
    {
      "cell_type": "code",
      "source": [
        "name ='###########################Hello#Nepal################################'\n",
        "print(name.strip('#').replace('#',' ').lower())\n"
      ],
      "metadata": {
        "id": "DlQchn5vGtun",
        "colab": {
          "base_uri": "https://localhost:8080/"
        },
        "outputId": "1146a3d6-bc53-451d-c0ab-ff5e7633bbb5"
      },
      "execution_count": null,
      "outputs": [
        {
          "output_type": "stream",
          "name": "stdout",
          "text": [
            "hello nepal\n"
          ]
        }
      ]
    },
    {
      "cell_type": "code",
      "source": [
        "name = \"##Hello##World##\"\n",
        "s= name.replace(\"#\",\"\")\n",
        "print(s.lower())"
      ],
      "metadata": {
        "colab": {
          "base_uri": "https://localhost:8080/"
        },
        "id": "WLW6Uq1zKqsS",
        "outputId": "940a9c65-961f-4c4b-c5cd-af107afca30f"
      },
      "execution_count": null,
      "outputs": [
        {
          "output_type": "stream",
          "name": "stdout",
          "text": [
            "helloworld\n"
          ]
        }
      ]
    },
    {
      "cell_type": "code",
      "source": [
        "name = \"##Hello##World##\"\n",
        "s= name.replace(\"#\",\"\")\n",
        "print(s.lower())\n"
      ],
      "metadata": {
        "colab": {
          "base_uri": "https://localhost:8080/"
        },
        "id": "aQZvSaK-KztT",
        "outputId": "366ae3fa-d8f4-47a8-dfbd-f882d240d020"
      },
      "execution_count": null,
      "outputs": [
        {
          "output_type": "stream",
          "name": "stdout",
          "text": [
            "helloworld\n"
          ]
        }
      ]
    },
    {
      "cell_type": "code",
      "source": [
        "#Day 2"
      ],
      "metadata": {
        "id": "6RF3CBxrLJqY"
      },
      "execution_count": 1,
      "outputs": []
    },
    {
      "cell_type": "code",
      "source": [],
      "metadata": {
        "id": "qKqraNpLEh3l"
      },
      "execution_count": null,
      "outputs": []
    }
  ]
}